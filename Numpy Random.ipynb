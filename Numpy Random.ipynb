{
 "cells": [
  {
   "attachments": {
    "numpy.jpeg": {
     "image/jpeg": "[encoded data removed]"
    }
   },
   "cell_type": "markdown",
   "metadata": {},
   "source": [
    "# Numpy Random Package\n",
    "\n",
    "\n",
    "## Introduction\n",
    "\n",
    "\n",
    "![numpy.jpeg](attachment:numpy.jpeg)\n",
    "\n",
    "In this notebook I will be discussing about the concepts behind and the use of the numpy random package. During Research, I wanted to get a better understaning of Numpy itself. Numpy is the fundamental forscientific computing in python. It's a python library, which provides a multidimentional array of objects. These objects are variously devired, such as matrices and masked arrays. Numpy also performs fast operational routines on arrays such as mathematical, logical, shape manipulations, basic linear algebra and many more. "
   ]
  },
  {
   "cell_type": "markdown",
   "metadata": {},
   "source": [
    "Numpy has four differnt section in its package:\n",
    "\n",
    "- Simple Random data\n",
    "- Permutatons\n",
    "- Distributions\n",
    "- Random Generator\n",
    "\n",
    " I will be disscussing each section in the  package individually and include some examples and some plots.\n"
   ]
  },
  {
   "cell_type": "markdown",
   "metadata": {},
   "source": [
    "# 1. Simple Random Data\n",
    "  ------------------------------------\n",
    "  \n",
    "  This section generates random data for eveyday purposes, there are 10 functions in that section. I will be focusing on these two functions:\n",
    "  \n",
    "  - Numpy.Random.Rand\n",
    "  - Numpy.random.RandInt\n",
    "  \n",
    "  \n",
    "  "
   ]
  },
  {
   "cell_type": "markdown",
   "metadata": {},
   "source": [
    "### - Numpy.Random.Rand\n",
    "\n",
    "This function returns random values in a given shape. It creates an array of any given shape and populates it, with random samples from a uniform distribution. The numbers passed into rand should be demensions of a returned array and they should all be positive and if thats not given you get a single python float back and returns back an array of shapes. which are the numbers that are passed in.\n",
    "\n",
    "\n",
    "#### Example:"
   ]
  },
  {
   "cell_type": "code",
   "execution_count": 1,
   "metadata": {},
   "outputs": [],
   "source": [
    "import numpy as np"
   ]
  },
  {
   "cell_type": "code",
   "execution_count": 2,
   "metadata": {},
   "outputs": [
    {
     "data": {
      "text/plain": [
       "array([[0.42195488, 0.24543511],\n",
       "       [0.22668554, 0.97998415],\n",
       "       [0.56981079, 0.87774553]])"
      ]
     },
     "execution_count": 2,
     "metadata": {},
     "output_type": "execute_result"
    }
   ],
   "source": [
    "np.random.rand(3,2)"
   ]
  },
  {
   "cell_type": "markdown",
   "metadata": {},
   "source": [
    "Numpy creates arrays, so that every row has the same number of elements and every column has the same number of elements also. In this case it's created an array and that array contains three other arrays, each has two elements and they look like floats. They are numbers between 0 and 1. Everytime the code is ran, random numbers will be generated each time because we are dealing the rand function.. "
   ]
  },
  {
   "cell_type": "markdown",
   "metadata": {},
   "source": [
    "Another example would be if you changed the row and column you would get different output.\n",
    "Example:"
   ]
  },
  {
   "cell_type": "code",
   "execution_count": 3,
   "metadata": {},
   "outputs": [
    {
     "data": {
      "text/plain": [
       "array([[0.66963398, 0.00699227, 0.62510877, 0.03229515, 0.03888894],\n",
       "       [0.86908773, 0.82947408, 0.31562069, 0.10390837, 0.13909077],\n",
       "       [0.41226521, 0.2265546 , 0.54414168, 0.89976872, 0.77480846],\n",
       "       [0.75825027, 0.25561648, 0.96386615, 0.63413413, 0.22439637],\n",
       "       [0.42224094, 0.76929051, 0.47485746, 0.34006726, 0.75495884],\n",
       "       [0.39944142, 0.74919118, 0.03222696, 0.67250229, 0.79758763],\n",
       "       [0.50233098, 0.44533839, 0.97395333, 0.10839312, 0.58301684],\n",
       "       [0.11697233, 0.36896601, 0.85765587, 0.44458451, 0.28290818],\n",
       "       [0.05419946, 0.8200917 , 0.39405975, 0.99151246, 0.88189423],\n",
       "       [0.59824375, 0.89782622, 0.34730341, 0.67930593, 0.61420034]])"
      ]
     },
     "execution_count": 3,
     "metadata": {},
     "output_type": "execute_result"
    }
   ],
   "source": [
    "np.random.rand(10,5)"
   ]
  },
  {
   "cell_type": "markdown",
   "metadata": {},
   "source": [
    "Now rand gives you 10 columns with 5 rows."
   ]
  },
  {
   "cell_type": "markdown",
   "metadata": {},
   "source": [
    "More elements can be added in the array also to increase the depth of the array, which makes it more complex.\n",
    "Example below:"
   ]
  },
  {
   "cell_type": "code",
   "execution_count": 4,
   "metadata": {},
   "outputs": [
    {
     "data": {
      "text/plain": [
       "array([[[0.48536967, 0.65412172, 0.10128287, 0.46499188, 0.84740841],\n",
       "        [0.36606033, 0.93910777, 0.64709122, 0.38051498, 0.26178871],\n",
       "        [0.29291044, 0.72252672, 0.94331841, 0.38711417, 0.8844031 ],\n",
       "        [0.91954152, 0.22036384, 0.93082836, 0.36914902, 0.64371336]],\n",
       "\n",
       "       [[0.79577307, 0.41675387, 0.85586948, 0.03200398, 0.67716354],\n",
       "        [0.31427018, 0.80205864, 0.33922227, 0.49122708, 0.66833978],\n",
       "        [0.23914529, 0.14248459, 0.56729347, 0.55093076, 0.65560154],\n",
       "        [0.02950525, 0.74634673, 0.86389011, 0.51794839, 0.319508  ]]])"
      ]
     },
     "execution_count": 4,
     "metadata": {},
     "output_type": "execute_result"
    }
   ],
   "source": [
    "np.random.rand(2,4,5)"
   ]
  },
  {
   "cell_type": "markdown",
   "metadata": {},
   "source": [
    "In most cases, we would only be dealing with two or one dimensional arrays. This example is jus to show how complex the array can get when you add more elemets to it."
   ]
  },
  {
   "cell_type": "markdown",
   "metadata": {},
   "source": [
    "Rand also creates arrays with a given shape and populates it with random samples from a uniform distribution with numbers between (0 and 1) and this includes the number 0 itself and does not include 1. An understanding of this would be using an example of a graph to show how this function generates random numbers.\n",
    "\n",
    "Example:"
   ]
  },
  {
   "cell_type": "code",
   "execution_count": 5,
   "metadata": {},
   "outputs": [
    {
     "data": {
      "text/plain": [
       "<Figure size 640x480 with 1 Axes>"
      ]
     },
     "metadata": {},
     "output_type": "display_data"
    }
   ],
   "source": [
    "import numpy as np\n",
    "import matplotlib.pyplot as plt\n",
    "\n",
    "x=np.random.rand(500)\n",
    "\n",
    "plt.hist(x)\n",
    "plt.show()"
   ]
  },
  {
   "cell_type": "markdown",
   "metadata": {},
   "source": [
    "In the example above I imported matplotlib. Which will generate a variable called X and tell it to generate a value of 500 numbers. Using (plt.hist) which is a histogram for a type of plot, used for one dimensional data. If you have a bunch of values and want to see what kind of values are the most typical in the random values that have been created out of the 500, the histogram will show you these values. As shown from above.\n",
    " \n",
    "The histogram shows a picture of the random numbers generated by rand, on the X axis there's a continuos variable from 0 to 1. The hist function picks a reasonable number of bars and breaks them into sections. It has taken the interval of 0 to 1 and broken them into 10 intervals and made a bar chart for each of those intervals. The rand function has generated 500 numbers, where these 500 numbers are roughly between 0 and 0.1, 0 and 0.2 and so on. \n",
    "\n",
    "This is how the rand function works.\n",
    "\n",
    "---"
   ]
  },
  {
   "cell_type": "markdown",
   "metadata": {},
   "source": [
    "### - Numpy.Rand.RandINT"
   ]
  },
  {
   "cell_type": "markdown",
   "metadata": {},
   "source": [
    "Randint is quite similar to rand, it also generates random numbers. This function generates random integers which range from low(inclusive) to high(exclusive). This just means that if the numbers range from 0-1 it'll include 0 as it's lowest value and exclude 1 as its highest value. It also return integers from the discrete uniform distribution. The number passed into randint should be positive numbers with an interval form low to high, if the high is none or default then the low will rand from 0 to low. Then its returns back an array of shapes.\n",
    "\n",
    "##### Example:"
   ]
  },
  {
   "cell_type": "code",
   "execution_count": 6,
   "metadata": {},
   "outputs": [
    {
     "data": {
      "text/plain": [
       "array([3, 1, 3, 4, 1, 1, 4, 3, 1, 0])"
      ]
     },
     "execution_count": 6,
     "metadata": {},
     "output_type": "execute_result"
    }
   ],
   "source": [
    "x=np.random.randint(5, size=(10))\n",
    "x"
   ]
  },
  {
   "cell_type": "code",
   "execution_count": 7,
   "metadata": {},
   "outputs": [
    {
     "data": {
      "image/png": "[encoded data removed]",
      "text/plain": [
       "<Figure size 432x288 with 1 Axes>"
      ]
     },
     "metadata": {},
     "output_type": "display_data"
    }
   ],
   "source": [
    "import matplotlib.pyplot as plt\n",
    "\n",
    "plt.plot(x)\n",
    "plt.show()"
   ]
  },
  {
   "cell_type": "markdown",
   "metadata": {},
   "source": [
    "randint generated random numbers between 0 and 4, with 0 being its low and 4 being its high. It then returned a single int array size of 10. a plot of this is also shown above.\n",
    "\n",
    "#### Example:"
   ]
  },
  {
   "cell_type": "code",
   "execution_count": 8,
   "metadata": {},
   "outputs": [
    {
     "data": {
      "text/plain": [
       "array([[2, 4, 0, 1],\n",
       "       [2, 2, 0, 1]])"
      ]
     },
     "execution_count": 8,
     "metadata": {},
     "output_type": "execute_result"
    }
   ],
   "source": [
    "x= np.random.randint(5, size=(2,4))\n",
    "x"
   ]
  },
  {
   "cell_type": "markdown",
   "metadata": {},
   "source": [
    "Another example will be randint generating a 2 x 4 array of ints between 0 and 4 as shown above.\n",
    "Randint generated an int array of 4 rows and 2 columns with their numbers randing from 0 to 4, stating the low to high intervals.\n",
    "\n",
    "Below are two plots one is a histogram and the other is a plot showing graphs of thes arrays when generated."
   ]
  },
  {
   "cell_type": "code",
   "execution_count": 14,
   "metadata": {},
   "outputs": [
    {
     "data": {
      "image/png": "[encoded data removed]",
      "text/plain": [
       "<Figure size 432x288 with 1 Axes>"
      ]
     },
     "metadata": {},
     "output_type": "display_data"
    },
    {
     "data": {
      "image/png": "[encoded data removed]",
      "text/plain": [
       "<Figure size 432x288 with 1 Axes>"
      ]
     },
     "metadata": {},
     "output_type": "display_data"
    }
   ],
   "source": [
    "import matplotlib.pyplot as plt\n",
    "\n",
    "plt.subplot()\n",
    "plt.plot(x)\n",
    "plt.show()\n",
    "\n",
    "\n",
    "plt.subplot()\n",
    "plt.hist(x)\n",
    "plt.show()\n"
   ]
  },
  {
   "cell_type": "markdown",
   "metadata": {},
   "source": []
  },
  {
   "cell_type": "code",
   "execution_count": null,
   "metadata": {},
   "outputs": [],
   "source": []
  }
 ],
 "metadata": {
  "kernelspec": {
   "display_name": "Python 3",
   "language": "python",
   "name": "python3"
  },
  "language_info": {
   "codemirror_mode": {
    "name": "ipython",
    "version": 3
   },
   "file_extension": ".py",
   "mimetype": "text/x-python",
   "name": "python",
   "nbconvert_exporter": "python",
   "pygments_lexer": "ipython3",
   "version": "3.6.5"
  }
 },
 "nbformat": 4,
 "nbformat_minor": 2
}
