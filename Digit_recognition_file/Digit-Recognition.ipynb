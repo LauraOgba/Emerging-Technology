{
 "cells": [
  {
   "cell_type": "markdown",
   "metadata": {},
   "source": [
    "# Digit Recognition"
   ]
  },
  {
   "cell_type": "markdown",
   "metadata": {},
   "source": [
    "In developing my script to recognise handwritten digits to be identified using supervised learning algorithm and MNIST dataset, I did various research on how this would be done. I found various tutorials and they all seemed to revolve around using the MNIST dataset and extending it to do more.\n",
    "To get a better understanding of MNIST dataset view my previous notebook, MNIST dataset.ipynb to learn more."
   ]
  },
  {
   "cell_type": "markdown",
   "metadata": {},
   "source": [
    "# Importing Libraries"
   ]
  },
  {
   "cell_type": "markdown",
   "metadata": {},
   "source": [
    "In order to write any code, its always essential to use libraries that is suitable for you design. In my script the main library that was used is Tensorflow. This is the foundation of the script, because MNIST needs tensorflow to run It is the grounds it stands on."
   ]
  },
  {
   "cell_type": "markdown",
   "metadata": {},
   "source": [
    "# How It Works!!"
   ]
  },
  {
   "cell_type": "markdown",
   "metadata": {},
   "source": [
    "Using the MNIST tutorial on tensorflows website, i was able to follow through and get a better understanding. There are four scripts in total. It starts with the MNIST dta being loaded first. and thats save into a file. Next we have the (Create_model) one and two, which create's a model.ckpt that stores those files each time they are ran. The scripts (predict) ona and two both have scripts where the main work is done. This is where the actual code that alows the machine to learn these numbers are developed. In order for these fils to run they have to be accessible from the same folder.\n",
    "\n",
    "The steps in coding is:\n",
    "\n",
    " - Import libraries\n",
    " - Define the model\n",
    " - Load the model file\n",
    " - Resize each picture\n",
    " - Train an Test the models\n",
    " - get pixel value\n",
    "\n",
    "\n",
    "You'll have to go into the directory of where the files are saved and open it up in command line. Then input the following \"python create_model_1.py\" This collects the images from its original file and converts it into machine readable format and saves it in this cptk file, where its accessed from later. \n",
    "\n",
    "Next is to put the following aswell after the above \"python create_model_2.py\", this second model does the same thing but this file is accessed for veing the acuracy of those images later on.\n",
    "\n",
    "You'll need to create handwritten images of the number 0 - 9, this can be done using and microsoft tool available. I used Paint, as it was easily accessable and free to use and saved them in the same folder an the rest of the files.\n",
    "\n",
    "The following prompts will be used to print a prediction manually from the command line. Using \"python predict_1.py number1.png\", we are telling the machine to run the code in python which is very important and we've written the script in python. Then search the file predict one which has all the functions on what to do and the png file is the number that we want the machine to predict. So when you input that the answer will be written back in human readable form. The machine should return the number 1 number indicating that it has searched through the file and has predicted that the number i want is one and looks like 1, the png can be changed to any number and the user should get the coresponding number."
   ]
  },
  {
   "cell_type": "markdown",
   "metadata": {},
   "source": [
    "# Performance"
   ]
  },
  {
   "cell_type": "markdown",
   "metadata": {},
   "source": [
    "In relation to the performance of the script, the model 2 gives the accuracy of each image and how many percent it's worth. When i ran the code in the command prompt, I input 1 as my first prediction and I recieved that exact number, so the prediction was very accurate in its prediction, however when trying some numbers like 3, it would return 8 this wasnt as accurate, althought the number does som how has the shape of number 8 so the machine got confused.\n",
    "\n",
    "The more its ran with training and testing it has better chance of getter a better accuracy, as it becomes familiar wiith these digits."
   ]
  },
  {
   "cell_type": "markdown",
   "metadata": {},
   "source": [
    "# END"
   ]
  },
  {
   "cell_type": "code",
   "execution_count": null,
   "metadata": {},
   "outputs": [],
   "source": []
  }
 ],
 "metadata": {
  "kernelspec": {
   "display_name": "Python 3",
   "language": "python",
   "name": "python3"
  },
  "language_info": {
   "codemirror_mode": {
    "name": "ipython",
    "version": 3
   },
   "file_extension": ".py",
   "mimetype": "text/x-python",
   "name": "python",
   "nbconvert_exporter": "python",
   "pygments_lexer": "ipython3",
   "version": "3.6.5"
  }
 },
 "nbformat": 4,
 "nbformat_minor": 2
}
