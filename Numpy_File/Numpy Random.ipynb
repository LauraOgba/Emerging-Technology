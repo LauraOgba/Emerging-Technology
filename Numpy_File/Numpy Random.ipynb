{
 "cells": [
  {
   "cell_type": "markdown",
   "metadata": {},
   "source": [
    "![Numpy](https://upload.wikimedia.org/wikipedia/commons/thumb/1/1a/NumPy_logo.svg/1200px-NumPy_logo.svg.png) \n",
    " \n",
    " \n",
    " \n",
    " # What is Numpy?\n",
    "\n",
    "\n",
    "In this notebook I will be discussing about the concepts behind and the use of the numpy random package. During Research, I wanted to get a better understaning of Numpy itself. Numpy is the fundamental forscientific computing in python. It's a python library, which provides a multidimentional array of objects. These objects are variously devired, such as matrices and masked arrays. Numpy also performs fast operational routines on arrays such as mathematical, logical, shape manipulations, basic linear algebra and many more. "
   ]
  },
  {
   "cell_type": "markdown",
   "metadata": {},
   "source": [
    "Numpy has four differnt section in its package:\n",
    "\n",
    "- Simple Random data\n",
    "- Permutatons\n",
    "- Distributions\n",
    "- Random Generator\n",
    "\n",
    "I will be disscussing each section in the  package individually and include some examples and some plots.\n"
   ]
  },
  {
   "cell_type": "markdown",
   "metadata": {},
   "source": [
    "# 1. Simple Random Data\n",
    "  ------------------------------------\n",
    "  \n",
    "  This section generates random data for eveyday purposes, there are 10 functions in that section. I will be focusing on these two functions:\n",
    "  \n",
    "  - Numpy.Random.Rand\n",
    "  - Numpy.random.RandInt\n",
    "  \n",
    "  \n",
    "  "
   ]
  },
  {
   "cell_type": "markdown",
   "metadata": {},
   "source": [
    "### - Numpy.Random.Rand\n",
    "\n",
    "This function returns random values in a given shape. It creates an array of any given shape and populates it, with random samples from a uniform distribution. The numbers passed into rand should be demensions of a returned array and they should all be positive and if thats not given you get a single python float back and returns back an array of shapes. which are the numbers that are passed in."
   ]
  },
  {
   "cell_type": "markdown",
   "metadata": {},
   "source": [
    "### Importing Numpy\n",
    "\n",
    "To start with this function, we must first import the numpy library which is essential for running these various data."
   ]
  },
  {
   "cell_type": "code",
   "execution_count": 1,
   "metadata": {},
   "outputs": [],
   "source": [
    "import numpy as np"
   ]
  },
  {
   "cell_type": "code",
   "execution_count": 2,
   "metadata": {},
   "outputs": [
    {
     "data": {
      "text/plain": [
       "array([[0.03960293, 0.49531949],\n",
       "       [0.85260572, 0.20276355],\n",
       "       [0.67289051, 0.52547345]])"
      ]
     },
     "execution_count": 2,
     "metadata": {},
     "output_type": "execute_result"
    }
   ],
   "source": [
    "np.random.rand(3,2)"
   ]
  },
  {
   "cell_type": "markdown",
   "metadata": {},
   "source": [
    "Numpy creates arrays, so that every row has the same number of elements and every column has the same number of elements also. In this case it's created an array and that array contains three other arrays, each has two elements and they look like floats. They are numbers between 0 and 1. Everytime the code is ran, random numbers will be generated each time because we are dealing the rand function.. "
   ]
  },
  {
   "cell_type": "markdown",
   "metadata": {},
   "source": [
    "Another example would be if you changed the row and column you would get different output.\n",
    "Example:"
   ]
  },
  {
   "cell_type": "code",
   "execution_count": 3,
   "metadata": {},
   "outputs": [
    {
     "data": {
      "text/plain": [
       "array([[0.28095253, 0.50336471, 0.99583111, 0.76270271, 0.46633235],\n",
       "       [0.28807316, 0.76757944, 0.39814083, 0.65962392, 0.90446767],\n",
       "       [0.25017126, 0.73900932, 0.7542727 , 0.82405715, 0.49336244],\n",
       "       [0.83290897, 0.00704043, 0.65134861, 0.60201618, 0.27015071],\n",
       "       [0.45832549, 0.4852208 , 0.909379  , 0.07462218, 0.37217209],\n",
       "       [0.24998668, 0.22612944, 0.57974788, 0.49641668, 0.21118867],\n",
       "       [0.7547419 , 0.88421394, 0.76418846, 0.20142723, 0.07285246],\n",
       "       [0.32515338, 0.43331196, 0.05433657, 0.23105259, 0.09982661],\n",
       "       [0.53271447, 0.5360518 , 0.75026134, 0.11692509, 0.45750238],\n",
       "       [0.07839154, 0.56669028, 0.10238503, 0.66354555, 0.61399467]])"
      ]
     },
     "execution_count": 3,
     "metadata": {},
     "output_type": "execute_result"
    }
   ],
   "source": [
    "np.random.rand(10,5)"
   ]
  },
  {
   "cell_type": "markdown",
   "metadata": {},
   "source": [
    "Now rand gives you 10 columns with 5 rows."
   ]
  },
  {
   "cell_type": "markdown",
   "metadata": {},
   "source": [
    "More elements can be added in the array also to increase the depth of the array, which makes it more complex.\n",
    "Example below:"
   ]
  },
  {
   "cell_type": "code",
   "execution_count": 4,
   "metadata": {},
   "outputs": [
    {
     "data": {
      "text/plain": [
       "array([[[0.79976199, 0.27733154, 0.75952549, 0.76049297, 0.26042417],\n",
       "        [0.75078102, 0.76923495, 0.11850946, 0.20742648, 0.48164711],\n",
       "        [0.03933623, 0.01533164, 0.99334944, 0.3121663 , 0.50442738],\n",
       "        [0.98525176, 0.07476146, 0.93672706, 0.72417566, 0.96339335]],\n",
       "\n",
       "       [[0.99684287, 0.70404954, 0.63629095, 0.37627948, 0.03182921],\n",
       "        [0.98370426, 0.78789192, 0.57519553, 0.3393007 , 0.76676713],\n",
       "        [0.00810351, 0.44146043, 0.20201432, 0.810898  , 0.69209056],\n",
       "        [0.53565886, 0.5680348 , 0.0217276 , 0.66066404, 0.05901157]]])"
      ]
     },
     "execution_count": 4,
     "metadata": {},
     "output_type": "execute_result"
    }
   ],
   "source": [
    "np.random.rand(2,4,5)"
   ]
  },
  {
   "cell_type": "markdown",
   "metadata": {},
   "source": [
    "In most cases, we would only be dealing with two or one dimensional arrays. This example is jus to show how complex the array can get when you add more elemets to it."
   ]
  },
  {
   "cell_type": "markdown",
   "metadata": {},
   "source": [
    "Rand also creates arrays with a given shape and populates it with random samples from a uniform distribution with numbers between (0 and 1) and this includes the number 0 itself and does not include 1. An understanding of this would be using an example of a graph to show how this function generates random numbers.\n",
    "\n",
    "Example:"
   ]
  },
  {
   "cell_type": "code",
   "execution_count": 5,
   "metadata": {},
   "outputs": [
    {
     "data": {
      "text/plain": [
       "<Figure size 640x480 with 1 Axes>"
      ]
     },
     "metadata": {},
     "output_type": "display_data"
    }
   ],
   "source": [
    "import numpy as np\n",
    "import matplotlib.pyplot as plt\n",
    "\n",
    "x=np.random.rand(500)\n",
    "\n",
    "plt.hist(x)\n",
    "plt.show()"
   ]
  },
  {
   "cell_type": "markdown",
   "metadata": {},
   "source": [
    "In the example above I imported matplotlib. Which will generate a variable called X and tell it to generate a value of 500 numbers. Using (plt.hist) which is a histogram for a type of plot, used for one dimensional data. If you have a bunch of values and want to see what kind of values are the most typical in the random values that have been created out of the 500, the histogram will show you these values. As shown from above.\n",
    " \n",
    "The histogram shows a picture of the random numbers generated by rand, on the X axis there's a continuos variable from 0 to 1. The hist function picks a reasonable number of bars and breaks them into sections. It has taken the interval of 0 to 1 and broken them into 10 intervals and made a bar chart for each of those intervals. The rand function has generated 500 numbers, where these 500 numbers are roughly between 0 and 0.1, 0 and 0.2 and so on. \n",
    "\n",
    "This is how the rand function works.\n",
    "\n",
    "---"
   ]
  },
  {
   "cell_type": "markdown",
   "metadata": {},
   "source": [
    "### - Numpy.Rand.RandINT"
   ]
  },
  {
   "cell_type": "markdown",
   "metadata": {},
   "source": [
    "Randint is quite similar to rand, it also generates random numbers. This function generates random integers which range from low(inclusive) to high(exclusive). This just means that if the numbers range from 0-1 it'll include 0 as it's lowest value and exclude 1 as its highest value. It also return integers from the discrete uniform distribution. The number passed into randint should be positive numbers with an interval form low to high, if the high is none or default then the low will rand from 0 to low. Then its returns back an array of shapes.\n",
    "\n",
    "##### Example:"
   ]
  },
  {
   "cell_type": "code",
   "execution_count": 6,
   "metadata": {},
   "outputs": [
    {
     "data": {
      "text/plain": [
       "array([2, 1, 1, 3, 0, 3, 1, 2, 0, 4])"
      ]
     },
     "execution_count": 6,
     "metadata": {},
     "output_type": "execute_result"
    }
   ],
   "source": [
    "x=np.random.randint(5, size=(10))\n",
    "x"
   ]
  },
  {
   "cell_type": "code",
   "execution_count": 7,
   "metadata": {},
   "outputs": [
    {
     "data": {
      "image/png": "[encoded data removed]",
      "text/plain": [
       "<Figure size 432x288 with 1 Axes>"
      ]
     },
     "metadata": {},
     "output_type": "display_data"
    }
   ],
   "source": [
    "import matplotlib.pyplot as plt\n",
    "\n",
    "plt.plot(x)\n",
    "plt.show()"
   ]
  },
  {
   "cell_type": "markdown",
   "metadata": {},
   "source": [
    "randint generated random numbers between 0 and 4, with 0 being its low and 4 being its high. It then returned a single int array size of 10. a plot of this is also shown above.\n",
    "\n",
    "#### Example:"
   ]
  },
  {
   "cell_type": "code",
   "execution_count": 8,
   "metadata": {},
   "outputs": [
    {
     "data": {
      "text/plain": [
       "array([[0, 1, 2, 0],\n",
       "       [2, 1, 3, 1]])"
      ]
     },
     "execution_count": 8,
     "metadata": {},
     "output_type": "execute_result"
    }
   ],
   "source": [
    "x= np.random.randint(5, size=(2,4))\n",
    "x"
   ]
  },
  {
   "cell_type": "markdown",
   "metadata": {},
   "source": [
    "Another example will be randint generating a 2 x 4 array of ints between 0 and 4 as shown above.\n",
    "Randint generated an int array of 4 rows and 2 columns with their numbers randing from 0 to 4, stating the low to high intervals.\n",
    "\n",
    "Below are two plots one is a histogram and the other is a plot showing graphs of thes arrays when generated."
   ]
  },
  {
   "cell_type": "code",
   "execution_count": 9,
   "metadata": {},
   "outputs": [
    {
     "data": {
      "image/png": "[encoded data removed]",
      "text/plain": [
       "<Figure size 432x288 with 1 Axes>"
      ]
     },
     "metadata": {},
     "output_type": "display_data"
    },
    {
     "data": {
      "image/png": "[encoded data removed]",
      "text/plain": [
       "<Figure size 432x288 with 1 Axes>"
      ]
     },
     "metadata": {},
     "output_type": "display_data"
    }
   ],
   "source": [
    "import matplotlib.pyplot as plt\n",
    "\n",
    "plt.subplot()\n",
    "plt.plot(x)\n",
    "plt.show()\n",
    "\n",
    "\n",
    "plt.subplot()\n",
    "plt.hist(x)\n",
    "plt.show()\n"
   ]
  },
  {
   "cell_type": "markdown",
   "metadata": {},
   "source": [
    "# 2. Permutation"
   ]
  },
  {
   "cell_type": "markdown",
   "metadata": {},
   "source": [
    "### Random Shuffle\n",
    "This function only shuffles the array along its first axis of a multidimensional array. The order of the subarray is changed but its content remains the same.\n",
    "\n",
    "A better undertanding is shown with examples below:\n",
    "\n",
    "#### Example:"
   ]
  },
  {
   "cell_type": "code",
   "execution_count": 10,
   "metadata": {},
   "outputs": [
    {
     "data": {
      "text/plain": [
       "array([6, 5, 7, 4, 2, 1, 9, 8, 0, 3])"
      ]
     },
     "execution_count": 10,
     "metadata": {},
     "output_type": "execute_result"
    }
   ],
   "source": [
    "import numpy as np\n",
    "\n",
    "arr = np.arange(10)\n",
    "np.random.shuffle(arr)\n",
    "arr"
   ]
  },
  {
   "cell_type": "markdown",
   "metadata": {},
   "source": [
    "The example above is quite simple, we have 10 arrays and we want to shuffle them randomly, doesn't matter what order they are in. You can have a multidimensional array aswell e.g. matrix and still have the same out put."
   ]
  },
  {
   "cell_type": "code",
   "execution_count": 11,
   "metadata": {},
   "outputs": [
    {
     "data": {
      "text/plain": [
       "array([[3, 4, 5],\n",
       "       [6, 7, 8],\n",
       "       [0, 1, 2]])"
      ]
     },
     "execution_count": 11,
     "metadata": {},
     "output_type": "execute_result"
    }
   ],
   "source": [
    "arr = np.arange(9).reshape((3, 3))\n",
    "np.random.shuffle(arr)\n",
    "arr"
   ]
  },
  {
   "cell_type": "markdown",
   "metadata": {},
   "source": [
    "So, we have 9 arrays with a 3x3 matrixs having three rows and three columns and numpy has printed them out in random order but still has its content."
   ]
  },
  {
   "cell_type": "markdown",
   "metadata": {},
   "source": [
    "### Permutation shuffle \n",
    "\n",
    "The Permutation function randomly permute a sequence or a returned range, If X is a multidimentional array, then it is only shuffled along the first index.\n",
    "\n",
    "##### Example:"
   ]
  },
  {
   "cell_type": "code",
   "execution_count": 12,
   "metadata": {},
   "outputs": [
    {
     "data": {
      "text/plain": [
       "array([8, 7, 5, 2, 0, 3, 9, 4, 1, 6])"
      ]
     },
     "execution_count": 12,
     "metadata": {},
     "output_type": "execute_result"
    }
   ],
   "source": [
    "#Display an array of 10 permutations \n",
    "np.random.permutation(10)"
   ]
  },
  {
   "cell_type": "markdown",
   "metadata": {},
   "source": [
    "# 3. Distribution"
   ]
  },
  {
   "cell_type": "markdown",
   "metadata": {},
   "source": [
    "I'll be discussing about one of the most important function in distribution, which is the Uniform function. This function has been seen in the numpy random package stating that \"This function returns random values in a given shape. It creates an array of any given shape and populates it, with random samples from a uniform distribution.\" In the rand function, it distributes its data from a uniform distribution."
   ]
  },
  {
   "cell_type": "markdown",
   "metadata": {},
   "source": [
    "### Uniform\n",
    "\n",
    "The uniform function is very similar to te rand function as it also generates random number in a sequential way. I'll be showing an example of the below.\n",
    "\n",
    "#### Example:"
   ]
  },
  {
   "cell_type": "code",
   "execution_count": 15,
   "metadata": {},
   "outputs": [
    {
     "data": {
      "text/plain": [
       "array([-0.69980611, -0.90911666, -0.63179866, -0.3248328 , -0.25393144,\n",
       "       -0.45377497, -0.91540283, -0.44793003, -0.09867851, -0.64353825,\n",
       "       -0.15834847, -0.25980575, -0.12487614, -0.8569503 , -0.35255717,\n",
       "       -0.76186805, -0.38367634, -0.69450915, -0.97652009, -0.78332966,\n",
       "       -0.08269839, -0.40790693, -0.82210019, -0.27698807, -0.54369488,\n",
       "       -0.92478315, -0.55891361, -0.99586978, -0.93137133, -0.07135245,\n",
       "       -0.46957955, -0.84756279, -0.98446321, -0.05798257, -0.18887118,\n",
       "       -0.99027651, -0.3898632 , -0.42859303, -0.26498763, -0.81351944,\n",
       "       -0.2089675 , -0.21295013, -0.85969096, -0.72749865, -0.20223526,\n",
       "       -0.2751053 , -0.11792552, -0.52613546, -0.81253175, -0.77921354,\n",
       "       -0.35447739, -0.66147511, -0.28435763, -0.70656463, -0.32084976,\n",
       "       -0.84854855, -0.02526054, -0.05175745, -0.1461187 , -0.74521673,\n",
       "       -0.35019235, -0.71378397, -0.71864416, -0.4098048 , -0.69919008,\n",
       "       -0.22702092, -0.41598745, -0.06348123, -0.58575817, -0.44783352,\n",
       "       -0.43841267, -0.39506571, -0.49823442, -0.2400621 , -0.02315901,\n",
       "       -0.99943925, -0.68714967, -0.011577  , -0.76540142, -0.86211596,\n",
       "       -0.65071157, -0.79203517, -0.84972003, -0.97263277, -0.10080286,\n",
       "       -0.86341985, -0.61009413, -0.75800904, -0.23298874, -0.01730507,\n",
       "       -0.75473056, -0.53034314, -0.68645006, -0.34390716, -0.65712552,\n",
       "       -0.89456945, -0.32475669, -0.14656452, -0.01008109, -0.21412693])"
      ]
     },
     "execution_count": 15,
     "metadata": {},
     "output_type": "execute_result"
    }
   ],
   "source": [
    "np.random.uniform(-1,0,100)"
   ]
  },
  {
   "cell_type": "markdown",
   "metadata": {},
   "source": [
    "As seen to be similar to rand function, it displays an array of 100 ranging from -1 to 0 but including the low and excluding the high values. Lets take a closer look by ploting the data"
   ]
  },
  {
   "cell_type": "code",
   "execution_count": 17,
   "metadata": {},
   "outputs": [
    {
     "data": {
      "image/png": "[encoded data removed]",
      "text/plain": [
       "<Figure size 432x288 with 1 Axes>"
      ]
     },
     "metadata": {},
     "output_type": "display_data"
    }
   ],
   "source": [
    "import matplotlib.pyplot as plt\n",
    "count, bins, ignored = plt.hist(s, 15, density=True)\n",
    "plt.show()"
   ]
  },
  {
   "cell_type": "markdown",
   "metadata": {},
   "source": [
    "As seen above the graph of these data and how its shape its displayed. showing from the x-axis its range going from -1 to 0, which quite similar to the rand function.\n",
    "\n",
    "Lets take a look at another function from distribution"
   ]
  },
  {
   "cell_type": "markdown",
   "metadata": {},
   "source": [
    "### Poisson"
   ]
  },
  {
   "cell_type": "markdown",
   "metadata": {},
   "source": [
    "The Poisson distribution is the discrete probability distribution of the number of events occurring in a given time period, given the average number of times the event occurs over that time period.\n",
    "\n",
    "Lets see some example of how it works."
   ]
  },
  {
   "cell_type": "code",
   "execution_count": 20,
   "metadata": {},
   "outputs": [
    {
     "data": {
      "text/plain": [
       "array([3, 3, 3, ..., 5, 6, 8])"
      ]
     },
     "execution_count": 20,
     "metadata": {},
     "output_type": "execute_result"
    }
   ],
   "source": [
    " np.random.poisson(5, 10000)"
   ]
  },
  {
   "cell_type": "markdown",
   "metadata": {},
   "source": [
    "As seen above is similar to the uniform, in terms of distributing random numbers. But by giving an output of probability and statistics. Lets view a graph of the data."
   ]
  },
  {
   "cell_type": "code",
   "execution_count": 21,
   "metadata": {},
   "outputs": [
    {
     "data": {
      "image/png": "[encoded data removed]",
      "text/plain": [
       "<Figure size 432x288 with 1 Axes>"
      ]
     },
     "metadata": {},
     "output_type": "display_data"
    }
   ],
   "source": [
    "import matplotlib.pyplot as plt\n",
    "count, bins, ignored = plt.hist(s, 14, density=True)\n",
    "plt.show()"
   ]
  },
  {
   "cell_type": "markdown",
   "metadata": {},
   "source": [
    "# 4. Random Generator"
   ]
  },
  {
   "cell_type": "markdown",
   "metadata": {},
   "source": [
    "Random genertor is used to help a computer generate random numbers, as understood from research technically they cant generate random numbers them selves so they ned the help of a timer to work in place. That's where the random generator comes in. It has four different functions that helps it to generate these numbers, which are:\n",
    "\n",
    " - Random state\n",
    " - seed\n",
    " - get_state\n",
    " - set_state\n",
    " \n",
    " ### Random state\n",
    " \n",
    " Random state generator is a Container for the Mersenne Twister pseudo-random number generator. It exposes a number of methods for generating random numbers drawn from a variety of probability distributions. \n",
    " \n",
    " ### Seed\n",
    " \n",
    " Seed is just a method used when random state is initialised.  It can be called again to re-seed the generator.\n",
    " \n",
    " ### get_state and set_state\n",
    " \n",
    " The get state returns a tuple representing the internal state of the generator. while the set state sets the internal state of the generator from a tuple.\n",
    " "
   ]
  },
  {
   "cell_type": "markdown",
   "metadata": {},
   "source": [
    "These are the concepts behind and the use of the numpy random package, including plots of the various distributions.\n"
   ]
  },
  {
   "cell_type": "markdown",
   "metadata": {},
   "source": [
    "# End"
   ]
  },
  {
   "cell_type": "markdown",
   "metadata": {},
   "source": [
    "## Reference\n",
    "\n",
    " - [1] https://docs.scipy.org/doc/numpy-1.15.1/reference/routines.random.html\n",
    " - [2] https://web.microsoftstream.com/video/db596673-6d67-4d13-93c3-074728c693f2\n",
    " - [3] https://web.microsoftstream.com/video/d44d42fa-5b1a-4152-9d41-8129a3816001\n",
    " - [4] https://web.microsoftstream.com/video/e6f57177-0a17-45a5-8ca8-0e3191e887f8\n",
    " - [5] https://brilliant.org/wiki/poisson-distribution/\n",
    " - [6] mathworld.wolfram.com/UniformDistribution.html"
   ]
  }
 ],
 "metadata": {
  "kernelspec": {
   "display_name": "Python 3",
   "language": "python",
   "name": "python3"
  },
  "language_info": {
   "codemirror_mode": {
    "name": "ipython",
    "version": 3
   },
   "file_extension": ".py",
   "mimetype": "text/x-python",
   "name": "python",
   "nbconvert_exporter": "python",
   "pygments_lexer": "ipython3",
   "version": "3.6.5"
  }
 },
 "nbformat": 4,
 "nbformat_minor": 2
}
