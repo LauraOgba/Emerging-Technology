{
 "cells": [
  {
   "cell_type": "markdown",
   "metadata": {},
   "source": [
    "   # MNIST DATASET"
   ]
  },
  {
   "cell_type": "markdown",
   "metadata": {},
   "source": [
    "The MNIST dataset is one of the most common dataset mainly used for image classification and recognition. Libraries like Tensorflow and Keras allow us to import and download the MNIST dataset when programming. The MNIST database consists of 60,000 training images and 10,000 testing images, which are taken from American Genus Bureau employees and American high school students."
   ]
  },
  {
   "cell_type": "markdown",
   "metadata": {},
   "source": [
    "In this notebook I will be explaining how to read the MNIST dataset efficiently into memory in Python. In order to read these data I will be using Kera as the library and foundation to train and test these data. The first step to take towards training and testing these dataset, which are then effeciently read into memory and the image will be displayed. I'll start with reading the data first."
   ]
  },
  {
   "cell_type": "markdown",
   "metadata": {},
   "source": [
    "## Importing MNIST Dataset\n",
    "\n",
    "In order to understand and know how the MNIST dataset is read into the python memory effeciently, we'll start with importing the important libraries that will be needed for this machine learning. Tensorflow will be the foundation on where will run the data. Using the Mnist data. The libraries needed and that are essential are: Numpy used for the array, matplotlib, to plot the numbers or sets and the rand library to use the rand function used to display random integers. This data is gotten from http://yann.lecun.com/exdb/mnist/"
   ]
  },
  {
   "cell_type": "code",
   "execution_count": 4,
   "metadata": {},
   "outputs": [
    {
     "name": "stdout",
     "output_type": "stream",
     "text": [
      "Extracting MNIST_data\\train-images-idx3-ubyte.gz\n",
      "Extracting MNIST_data\\train-labels-idx1-ubyte.gz\n",
      "Extracting MNIST_data\\t10k-images-idx3-ubyte.gz\n",
      "Extracting MNIST_data\\t10k-labels-idx1-ubyte.gz\n"
     ]
    }
   ],
   "source": [
    "# Using the tensorflow tutorial, we'll be importing libraries.\n",
    "from tensorflow.examples.tutorials.mnist import input_data \n",
    "mnist = input_data.read_data_sets('MNIST_data', one_hot=True)\n",
    "import matplotlib.pyplot as plt # Import Matpot library for graphs\n",
    "import numpy as np # Import numpy for use of arrays\n",
    "import random as ran # Import random for generating random data from array"
   ]
  },
  {
   "cell_type": "markdown",
   "metadata": {},
   "source": [
    "## Train and Test Size Of Data\n",
    "\n",
    "Now we will train and test the size of the data, to know each byte of the Mnist dataset. So we want the machine to go through each one and every dataset in those files above and train and test their size and re-shape them to be human readable and also be recognised by the machine itself. Using the plot we'll train and test each number from its X and Y axis. "
   ]
  },
  {
   "cell_type": "code",
   "execution_count": 8,
   "metadata": {},
   "outputs": [],
   "source": [
    "# Using def function to train size\n",
    "def TRAIN_SIZE(num):\n",
    "    print ('Total Training Images in Dataset = ' + str(mnist.train.images.shape)) #Print total image in dataset\n",
    "    print ('--------------------------------------------------')\n",
    "    x_train = mnist.train.images[:num,:]\n",
    "    print ('x_train Examples Loaded = ' + str(x_train.shape))\n",
    "    y_train = mnist.train.labels[:num,:]\n",
    "    print ('y_train Examples Loaded = ' + str(y_train.shape))\n",
    "    print('')\n",
    "    return x_train, y_train\n",
    "\n",
    "def TEST_SIZE(num):\n",
    "    print ('Total Test Examples in Dataset = ' + str(mnist.test.images.shape))\n",
    "    print ('--------------------------------------------------')\n",
    "    x_test = mnist.test.images[:num,:]\n",
    "    print ('x_test Examples Loaded = ' + str(x_test.shape))\n",
    "    y_test = mnist.test.labels[:num,:]\n",
    "    print ('y_test Examples Loaded = ' + str(y_test.shape))\n",
    "    return x_test, y_test"
   ]
  },
  {
   "cell_type": "code",
   "execution_count": 5,
   "metadata": {},
   "outputs": [],
   "source": [
    "def display_digit(num):\n",
    "    print(y_train[num])\n",
    "    label = y_train[num].argmax(axis=0)\n",
    "    image = x_train[num].reshape([28,28])\n",
    "    plt.title('Example: %d  Label: %d' % (num, label))\n",
    "    plt.imshow(image, cmap=plt.get_cmap('gray_r'))\n",
    "    plt.show()\n",
    "\n",
    "def display_mult_flat(start, stop):\n",
    "    images = x_train[start].reshape([1,784])\n",
    "    for i in range(start+1,stop):\n",
    "        images = np.concatenate((images, x_train[i].reshape([1,784])))\n",
    "    plt.imshow(images, cmap=plt.get_cmap('gray_r'))\n",
    "    plt.show()"
   ]
  },
  {
   "cell_type": "code",
   "execution_count": 7,
   "metadata": {},
   "outputs": [
    {
     "name": "stdout",
     "output_type": "stream",
     "text": [
      "Total Training Images in Dataset = (55000, 784)\n",
      "--------------------------------------------------\n",
      "x_train Examples Loaded = (55000, 784)\n",
      "y_train Examples Loaded = (55000, 10)\n",
      "\n"
     ]
    }
   ],
   "source": [
    "    x_train, y_train = TRAIN_SIZE(55000)"
   ]
  },
  {
   "cell_type": "markdown",
   "metadata": {},
   "source": [
    "The displayed result just means that, there are 55,000 images of the handwritten numbers which are stored in those files. Which range from 0 - 9. Each image is a 28x28 pixel image compressed into an array with 784 values, which represents the intensity of each pixel. It is necessary for the images to be compressed, this is to allow tensorflow to recognise the digit linearly. It shows that we have loaded 55,000 images and 784 pixels into the X-train which makes it 55,000 rows and 784 column matrix.\n",
    "While the Y-train is just a label for every single X-train image, Instead of storing the label as an integer they are stored as a 1x10 binary array with each of them representing the one digit. It is known as one-hot encoding. "
   ]
  },
  {
   "cell_type": "markdown",
   "metadata": {},
   "source": [
    "## Displaying Random Image\n",
    "\n",
    "Now we will get the machine to display any one of the images or a random image from one of the files."
   ]
  },
  {
   "cell_type": "code",
   "execution_count": 10,
   "metadata": {},
   "outputs": [
    {
     "name": "stdout",
     "output_type": "stream",
     "text": [
      "[0. 0. 0. 0. 1. 0. 0. 0. 0. 0.]\n"
     ]
    },
    {
     "data": {
      "image/png": "[encoded data removed]",
      "text/plain": [
       "<Figure size 432x288 with 1 Axes>"
      ]
     },
     "metadata": {},
     "output_type": "display_data"
    }
   ],
   "source": [
    "display_digit(ran.randint(0, x_train.shape[0]))"
   ]
  },
  {
   "cell_type": "markdown",
   "metadata": {},
   "source": [
    "The more you re-run the code, youll get different numbers generated each time. This is my understanding of how Mnist dataset is read into python memory effeciently."
   ]
  },
  {
   "cell_type": "markdown",
   "metadata": {},
   "source": [
    "# End"
   ]
  },
  {
   "cell_type": "markdown",
   "metadata": {},
   "source": [
    "## References\n",
    "\n",
    "[1] https://www.oreilly.com/learning/not-another-mnist-tutorial-with-tensorflow\n",
    "[2] https://www.tensorflow.org/tutorials/"
   ]
  },
  {
   "cell_type": "code",
   "execution_count": null,
   "metadata": {},
   "outputs": [],
   "source": []
  }
 ],
 "metadata": {
  "kernelspec": {
   "display_name": "Python 3",
   "language": "python",
   "name": "python3"
  },
  "language_info": {
   "codemirror_mode": {
    "name": "ipython",
    "version": 3
   },
   "file_extension": ".py",
   "mimetype": "text/x-python",
   "name": "python",
   "nbconvert_exporter": "python",
   "pygments_lexer": "ipython3",
   "version": "3.6.5"
  }
 },
 "nbformat": 4,
 "nbformat_minor": 2
}
